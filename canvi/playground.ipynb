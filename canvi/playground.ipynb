{
 "cells": [
  {
   "cell_type": "code",
   "execution_count": null,
   "metadata": {},
   "outputs": [],
   "source": [
    "import sbibm\n",
    "\n",
    "task = sbibm.get_task(\"two_moons\")  # See sbibm.get_available_tasks() for all tasks\n",
    "prior = task.get_prior()\n",
    "simulator = task.get_simulator()\n",
    "observation = task.get_observation(num_observation=1)  # 10 per task\n",
    "\n",
    "# These objects can then be used for custom inference algorithms, e.g.\n",
    "# we might want to generate simulations by sampling from prior:\n",
    "thetas = prior(num_samples=10_000)\n",
    "xs = simulator(thetas)\n",
    "\n",
    "# Alternatively, we can import existing algorithms, e.g:\n",
    "from sbibm.algorithms import rej_abc  # See help(rej_abc) for keywords\n",
    "posterior_samples, _, _ = rej_abc(task=task, num_samples=10_000, num_observation=1, num_simulations=100_000)\n",
    "\n",
    "# Once we got samples from an approximate posterior, compare them to the reference:\n",
    "from sbibm.metrics import c2st\n",
    "reference_samples = task.get_reference_posterior_samples(num_observation=1)\n",
    "c2st_accuracy = c2st(reference_samples, posterior_samples)\n",
    "\n",
    "# Visualise both posteriors:\n",
    "from sbibm.visualisation import fig_posterior\n",
    "fig = fig_posterior(task_name=\"two_moons\", observation=1, samples=[posterior_samples])  \n",
    "# Note: Use fig.show() or fig.save() to show or save the figure\n",
    "\n",
    "# Get results from other algorithms for comparison:\n",
    "from sbibm.visualisation import fig_metric\n",
    "results_df = sbibm.get_results(dataset=\"main_paper.csv\")\n",
    "fig = fig_metric(results_df.query(\"task == 'two_moons'\"), metric=\"C2ST\")"
   ]
  }
 ],
 "metadata": {
  "kernelspec": {
   "display_name": "myenv",
   "language": "python",
   "name": "python3"
  },
  "language_info": {
   "name": "python",
   "version": "3.8.13 | packaged by conda-forge | (default, Mar 25 2022, 06:04:18) \n[GCC 10.3.0]"
  },
  "orig_nbformat": 4,
  "vscode": {
   "interpreter": {
    "hash": "3b52329284bbe5c33be71a85e74fd7d09ee2cb6433042a6fedbaa24048c41d61"
   }
  }
 },
 "nbformat": 4,
 "nbformat_minor": 2
}
