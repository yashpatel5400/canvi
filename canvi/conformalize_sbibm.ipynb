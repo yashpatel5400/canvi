{
 "cells": [
  {
   "cell_type": "code",
   "execution_count": 1,
   "id": "b4212fa2",
   "metadata": {},
   "outputs": [
    {
     "data": {
      "text/plain": [
       "['sir',\n",
       " 'two_moons',\n",
       " 'slcp',\n",
       " 'gaussian_linear_uniform',\n",
       " 'lotka_volterra',\n",
       " 'bernoulli_glm',\n",
       " 'gaussian_mixture',\n",
       " 'gaussian_linear',\n",
       " 'slcp_distractors',\n",
       " 'bernoulli_glm_raw']"
      ]
     },
     "execution_count": 1,
     "metadata": {},
     "output_type": "execute_result"
    }
   ],
   "source": [
    "import sbibm\n",
    "import numpy as np\n",
    "import pandas as pd\n",
    "import matplotlib.pyplot as plt\n",
    "import seaborn as sns\n",
    "import pickle"
   ]
  },
  {
   "cell_type": "code",
   "execution_count": 2,
   "id": "afd71713",
   "metadata": {},
   "outputs": [],
   "source": [
    "task_name = \"gaussian_mixture\""
   ]
  },
  {
   "cell_type": "code",
   "execution_count": 187,
   "id": "6069fa30",
   "metadata": {},
   "outputs": [
    {
     "data": {
      "text/plain": [
       "<generator object Module.parameters at 0x7f33f3fd30b0>"
      ]
     },
     "execution_count": 187,
     "metadata": {},
     "output_type": "execute_result"
    }
   ],
   "source": [
    "encoder.parameters()"
   ]
  },
  {
   "cell_type": "code",
   "execution_count": 3,
   "id": "c3048b3c",
   "metadata": {},
   "outputs": [
    {
     "data": {
      "text/plain": [
       "Flow(\n",
       "  (_transform): CompositeTransform(\n",
       "    (_transforms): ModuleList(\n",
       "      (0): PiecewiseRationalQuadraticCouplingTransform(\n",
       "        (transform_net): ResidualNet(\n",
       "          (initial_layer): Linear(in_features=3, out_features=50, bias=True)\n",
       "          (blocks): ModuleList(\n",
       "            (0-1): 2 x ResidualBlock(\n",
       "              (context_layer): Linear(in_features=2, out_features=50, bias=True)\n",
       "              (linear_layers): ModuleList(\n",
       "                (0-1): 2 x Linear(in_features=50, out_features=50, bias=True)\n",
       "              )\n",
       "              (dropout): Dropout(p=0.0, inplace=False)\n",
       "            )\n",
       "          )\n",
       "          (final_layer): Linear(in_features=50, out_features=29, bias=True)\n",
       "        )\n",
       "      )\n",
       "      (1): LULinear()\n",
       "      (2): PiecewiseRationalQuadraticCouplingTransform(\n",
       "        (transform_net): ResidualNet(\n",
       "          (initial_layer): Linear(in_features=3, out_features=50, bias=True)\n",
       "          (blocks): ModuleList(\n",
       "            (0-1): 2 x ResidualBlock(\n",
       "              (context_layer): Linear(in_features=2, out_features=50, bias=True)\n",
       "              (linear_layers): ModuleList(\n",
       "                (0-1): 2 x Linear(in_features=50, out_features=50, bias=True)\n",
       "              )\n",
       "              (dropout): Dropout(p=0.0, inplace=False)\n",
       "            )\n",
       "          )\n",
       "          (final_layer): Linear(in_features=50, out_features=29, bias=True)\n",
       "        )\n",
       "      )\n",
       "      (3): LULinear()\n",
       "      (4): PiecewiseRationalQuadraticCouplingTransform(\n",
       "        (transform_net): ResidualNet(\n",
       "          (initial_layer): Linear(in_features=3, out_features=50, bias=True)\n",
       "          (blocks): ModuleList(\n",
       "            (0-1): 2 x ResidualBlock(\n",
       "              (context_layer): Linear(in_features=2, out_features=50, bias=True)\n",
       "              (linear_layers): ModuleList(\n",
       "                (0-1): 2 x Linear(in_features=50, out_features=50, bias=True)\n",
       "              )\n",
       "              (dropout): Dropout(p=0.0, inplace=False)\n",
       "            )\n",
       "          )\n",
       "          (final_layer): Linear(in_features=50, out_features=29, bias=True)\n",
       "        )\n",
       "      )\n",
       "      (5): LULinear()\n",
       "      (6): PiecewiseRationalQuadraticCouplingTransform(\n",
       "        (transform_net): ResidualNet(\n",
       "          (initial_layer): Linear(in_features=3, out_features=50, bias=True)\n",
       "          (blocks): ModuleList(\n",
       "            (0-1): 2 x ResidualBlock(\n",
       "              (context_layer): Linear(in_features=2, out_features=50, bias=True)\n",
       "              (linear_layers): ModuleList(\n",
       "                (0-1): 2 x Linear(in_features=50, out_features=50, bias=True)\n",
       "              )\n",
       "              (dropout): Dropout(p=0.0, inplace=False)\n",
       "            )\n",
       "          )\n",
       "          (final_layer): Linear(in_features=50, out_features=29, bias=True)\n",
       "        )\n",
       "      )\n",
       "      (7): LULinear()\n",
       "      (8): PiecewiseRationalQuadraticCouplingTransform(\n",
       "        (transform_net): ResidualNet(\n",
       "          (initial_layer): Linear(in_features=3, out_features=50, bias=True)\n",
       "          (blocks): ModuleList(\n",
       "            (0-1): 2 x ResidualBlock(\n",
       "              (context_layer): Linear(in_features=2, out_features=50, bias=True)\n",
       "              (linear_layers): ModuleList(\n",
       "                (0-1): 2 x Linear(in_features=50, out_features=50, bias=True)\n",
       "              )\n",
       "              (dropout): Dropout(p=0.0, inplace=False)\n",
       "            )\n",
       "          )\n",
       "          (final_layer): Linear(in_features=50, out_features=29, bias=True)\n",
       "        )\n",
       "      )\n",
       "      (9): LULinear()\n",
       "    )\n",
       "  )\n",
       "  (_distribution): StandardNormal()\n",
       "  (_embedding_net): Identity()\n",
       ")"
      ]
     },
     "execution_count": 3,
     "metadata": {},
     "output_type": "execute_result"
    }
   ],
   "source": [
    "\n",
    "task = sbibm.get_task(task_name)\n",
    "prior = task.get_prior_dist()\n",
    "simulator = task.get_simulator()   \n",
    "\n",
    "device = \"cuda:0\"\n",
    "    \n",
    "fn = f\"{task_name}\"\n",
    "cached_fn = f\"{fn}.nf\"\n",
    "with open(cached_fn, \"rb\") as f:\n",
    "    encoder = pickle.load(f)\n",
    "encoder.to(device)"
   ]
  },
  {
   "cell_type": "code",
   "execution_count": 161,
   "id": "761f533c",
   "metadata": {},
   "outputs": [],
   "source": [
    "total_trials = 10\n",
    "\n",
    "trial_sims = 10_000 # same number for both test and calibration\n",
    "sims = (total_trials + 1) * trial_sims\n",
    "\n",
    "theta = prior.sample((sims,))\n",
    "x = simulator(theta)\n",
    "\n",
    "# very weird, but something odd happens on certain simulation runs if we generate test data at\n",
    "# test time -- just generate all data (both test and calibration) ahead of time to avoid this\n",
    "thetas = np.split(theta, sims // trial_sims)\n",
    "xs = np.split(x, sims // trial_sims)\n",
    "\n",
    "calibration_theta = thetas[0]\n",
    "calibration_x = xs[0]\n",
    "\n",
    "test_thetas = thetas[1:]\n",
    "test_xs = xs[1:]"
   ]
  },
  {
   "cell_type": "code",
   "execution_count": 162,
   "id": "1e9dbb30",
   "metadata": {},
   "outputs": [],
   "source": [
    "\n",
    "num_coverage_pts = 20\n",
    "desired_coverages = [(1 / num_coverage_pts) * k for k in range(num_coverage_pts)]\n",
    "\n",
    "cal_scores = 1 / encoder.log_prob(calibration_theta.to(device), calibration_x.to(device)).detach().cpu().exp().numpy()\n",
    "conformal_quantiles = np.array([np.quantile(cal_scores, q = coverage) for coverage in desired_coverages])"
   ]
  },
  {
   "cell_type": "code",
   "execution_count": 163,
   "metadata": {},
   "outputs": [],
   "source": [
    "def coverage_trial(test_theta, test_x):\n",
    "    test_scores = 1 / encoder.log_prob(test_theta.to(device), test_x.to(device)).detach().cpu().exp().numpy()\n",
    "    return [np.sum(test_scores < conformal_quantile) / trial_sims for conformal_quantile in conformal_quantiles]"
   ]
  },
  {
   "cell_type": "code",
   "execution_count": 179,
   "id": "c909acdf",
   "metadata": {},
   "outputs": [],
   "source": [
    "dfs = []\n",
    "for i in range(total_trials):\n",
    "    df = pd.DataFrame(columns=[\"confidence\", \"coverages\"])\n",
    "    df[\"confidence\"] = desired_coverages\n",
    "    df[\"coverages\"] = coverage_trial(test_thetas[i], test_xs[i])\n",
    "    dfs.append(df)\n",
    "df = pd.concat(dfs)   "
   ]
  },
  {
   "cell_type": "code",
   "execution_count": null,
   "id": "4de92e51",
   "metadata": {},
   "outputs": [],
   "source": [
    "empirical_theta_dist = encoder.sample((trial_sims,))"
   ]
  },
  {
   "cell_type": "code",
   "execution_count": 183,
   "id": "3ae13274",
   "metadata": {},
   "outputs": [
    {
     "data": {
      "text/plain": [
       "<Axes: xlabel='confidence', ylabel='confidence'>"
      ]
     },
     "execution_count": 183,
     "metadata": {},
     "output_type": "execute_result"
    },
    {
     "data": {
      "image/png": "[encoded data removed]",
      "text/plain": [
       "<Figure size 640x480 with 1 Axes>"
      ]
     },
     "metadata": {},
     "output_type": "display_data"
    }
   ],
   "source": [
    "sns.lineplot(data=df, x=\"confidence\", y=\"confidence\", color=\"black\", linestyle=\"-\")\n",
    "sns.lineplot(data=df, x=\"confidence\", y=\"coverages\", color=\"red\", linestyle=\"-\")"
   ]
  },
  {
   "cell_type": "code",
   "execution_count": null,
   "id": "cac176fd",
   "metadata": {},
   "outputs": [],
   "source": []
  }
 ],
 "metadata": {
  "kernelspec": {
   "display_name": "chig",
   "language": "python",
   "name": "python3"
  },
  "language_info": {
   "codemirror_mode": {
    "name": "ipython",
    "version": 3
   },
   "file_extension": ".py",
   "mimetype": "text/x-python",
   "name": "python",
   "nbconvert_exporter": "python",
   "pygments_lexer": "ipython3",
   "version": "3.8.16"
  },
  "vscode": {
   "interpreter": {
    "hash": "025fdf49e09ee838b0c05e971129fbc14df70fae1b22b06a04398c8d66c2f675"
   }
  }
 },
 "nbformat": 4,
 "nbformat_minor": 5
}
