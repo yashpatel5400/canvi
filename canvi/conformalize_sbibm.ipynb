{
 "cells": [
  {
   "cell_type": "code",
   "execution_count": 1,
   "id": "b4212fa2",
   "metadata": {},
   "outputs": [],
   "source": [
    "import sbibm\n",
    "import numpy as np\n",
    "import pandas as pd\n",
    "import matplotlib.pyplot as plt\n",
    "import seaborn as sns\n",
    "import pickle\n",
    "import torch"
   ]
  },
  {
   "cell_type": "code",
   "execution_count": 2,
   "id": "afd71713",
   "metadata": {},
   "outputs": [],
   "source": [
    "task_name = \"gaussian_mixture\""
   ]
  },
  {
   "cell_type": "code",
   "execution_count": 5,
   "id": "c3048b3c",
   "metadata": {},
   "outputs": [
    {
     "data": {
      "text/plain": [
       "Flow(\n",
       "  (_transform): CompositeTransform(\n",
       "    (_transforms): ModuleList(\n",
       "      (0): PiecewiseRationalQuadraticCouplingTransform(\n",
       "        (transform_net): ResidualNet(\n",
       "          (initial_layer): Linear(in_features=3, out_features=50, bias=True)\n",
       "          (blocks): ModuleList(\n",
       "            (0-1): 2 x ResidualBlock(\n",
       "              (context_layer): Linear(in_features=2, out_features=50, bias=True)\n",
       "              (linear_layers): ModuleList(\n",
       "                (0-1): 2 x Linear(in_features=50, out_features=50, bias=True)\n",
       "              )\n",
       "              (dropout): Dropout(p=0.0, inplace=False)\n",
       "            )\n",
       "          )\n",
       "          (final_layer): Linear(in_features=50, out_features=29, bias=True)\n",
       "        )\n",
       "      )\n",
       "      (1): LULinear()\n",
       "      (2): PiecewiseRationalQuadraticCouplingTransform(\n",
       "        (transform_net): ResidualNet(\n",
       "          (initial_layer): Linear(in_features=3, out_features=50, bias=True)\n",
       "          (blocks): ModuleList(\n",
       "            (0-1): 2 x ResidualBlock(\n",
       "              (context_layer): Linear(in_features=2, out_features=50, bias=True)\n",
       "              (linear_layers): ModuleList(\n",
       "                (0-1): 2 x Linear(in_features=50, out_features=50, bias=True)\n",
       "              )\n",
       "              (dropout): Dropout(p=0.0, inplace=False)\n",
       "            )\n",
       "          )\n",
       "          (final_layer): Linear(in_features=50, out_features=29, bias=True)\n",
       "        )\n",
       "      )\n",
       "      (3): LULinear()\n",
       "      (4): PiecewiseRationalQuadraticCouplingTransform(\n",
       "        (transform_net): ResidualNet(\n",
       "          (initial_layer): Linear(in_features=3, out_features=50, bias=True)\n",
       "          (blocks): ModuleList(\n",
       "            (0-1): 2 x ResidualBlock(\n",
       "              (context_layer): Linear(in_features=2, out_features=50, bias=True)\n",
       "              (linear_layers): ModuleList(\n",
       "                (0-1): 2 x Linear(in_features=50, out_features=50, bias=True)\n",
       "              )\n",
       "              (dropout): Dropout(p=0.0, inplace=False)\n",
       "            )\n",
       "          )\n",
       "          (final_layer): Linear(in_features=50, out_features=29, bias=True)\n",
       "        )\n",
       "      )\n",
       "      (5): LULinear()\n",
       "      (6): PiecewiseRationalQuadraticCouplingTransform(\n",
       "        (transform_net): ResidualNet(\n",
       "          (initial_layer): Linear(in_features=3, out_features=50, bias=True)\n",
       "          (blocks): ModuleList(\n",
       "            (0-1): 2 x ResidualBlock(\n",
       "              (context_layer): Linear(in_features=2, out_features=50, bias=True)\n",
       "              (linear_layers): ModuleList(\n",
       "                (0-1): 2 x Linear(in_features=50, out_features=50, bias=True)\n",
       "              )\n",
       "              (dropout): Dropout(p=0.0, inplace=False)\n",
       "            )\n",
       "          )\n",
       "          (final_layer): Linear(in_features=50, out_features=29, bias=True)\n",
       "        )\n",
       "      )\n",
       "      (7): LULinear()\n",
       "      (8): PiecewiseRationalQuadraticCouplingTransform(\n",
       "        (transform_net): ResidualNet(\n",
       "          (initial_layer): Linear(in_features=3, out_features=50, bias=True)\n",
       "          (blocks): ModuleList(\n",
       "            (0-1): 2 x ResidualBlock(\n",
       "              (context_layer): Linear(in_features=2, out_features=50, bias=True)\n",
       "              (linear_layers): ModuleList(\n",
       "                (0-1): 2 x Linear(in_features=50, out_features=50, bias=True)\n",
       "              )\n",
       "              (dropout): Dropout(p=0.0, inplace=False)\n",
       "            )\n",
       "          )\n",
       "          (final_layer): Linear(in_features=50, out_features=29, bias=True)\n",
       "        )\n",
       "      )\n",
       "      (9): LULinear()\n",
       "    )\n",
       "  )\n",
       "  (_distribution): StandardNormal()\n",
       "  (_embedding_net): Identity()\n",
       ")"
      ]
     },
     "execution_count": 5,
     "metadata": {},
     "output_type": "execute_result"
    }
   ],
   "source": [
    "\n",
    "task = sbibm.get_task(task_name)\n",
    "prior = task.get_prior_dist()\n",
    "simulator = task.get_simulator()   \n",
    "    \n",
    "device = \"cpu\"\n",
    "\n",
    "fn = f\"{task_name}\"\n",
    "cached_fn = f\"{fn}.nf\"\n",
    "with open(cached_fn, \"rb\") as f:\n",
    "    encoder = pickle.load(f)\n",
    "encoder.to(device)"
   ]
  },
  {
   "cell_type": "code",
   "execution_count": 6,
   "id": "761f533c",
   "metadata": {},
   "outputs": [],
   "source": [
    "total_trials = 10\n",
    "\n",
    "trial_sims = 10_000 # same number for both test and calibration\n",
    "sims = (total_trials + 1) * trial_sims\n",
    "\n",
    "theta = prior.sample((sims,)).to(device)\n",
    "x = simulator(theta).to(device)\n",
    "\n",
    "# very weird, but something odd happens on certain simulation runs if we generate test data at\n",
    "# test time -- just generate all data (both test and calibration) ahead of time to avoid this\n",
    "thetas = torch.split(theta, trial_sims)\n",
    "xs = torch.split(x, trial_sims)\n",
    "\n",
    "calibration_theta = thetas[0]\n",
    "calibration_x = xs[0]\n",
    "\n",
    "test_thetas = thetas[1:]\n",
    "test_xs = xs[1:]"
   ]
  },
  {
   "cell_type": "code",
   "execution_count": 7,
   "id": "68782c32",
   "metadata": {},
   "outputs": [],
   "source": [
    "def coverage_trial(test_theta, test_x):\n",
    "    test_scores = 1 / encoder.log_prob(test_theta, test_x).detach().cpu().exp().numpy()\n",
    "    return [np.sum(test_scores < conformal_quantile) / trial_sims for conformal_quantile in conformal_quantiles]"
   ]
  },
  {
   "cell_type": "code",
   "execution_count": 8,
   "id": "1e9dbb30",
   "metadata": {},
   "outputs": [],
   "source": [
    "num_coverage_pts = 20\n",
    "desired_coverages = [(1 / num_coverage_pts) * k for k in range(num_coverage_pts)]\n",
    "\n",
    "cal_scores = 1 / encoder.log_prob(calibration_theta, calibration_x).detach().cpu().exp().numpy()\n",
    "conformal_quantiles = np.array([np.quantile(cal_scores, q = coverage) for coverage in desired_coverages])"
   ]
  },
  {
   "cell_type": "code",
   "execution_count": 9,
   "metadata": {},
   "outputs": [],
   "source": [
    "def coverage_trial(test_theta, test_x):\n",
    "    test_scores = 1 / encoder.log_prob(test_theta, test_x).detach().cpu().exp().numpy()\n",
    "    return [np.sum(test_scores < conformal_quantile) / trial_sims for conformal_quantile in conformal_quantiles]"
   ]
  },
  {
   "cell_type": "code",
   "execution_count": 10,
   "id": "08a5aab6",
   "metadata": {},
   "outputs": [],
   "source": [
    "def var_coverage_trial(test_theta, test_x):\n",
    "    variational_dist_samples = 100\n",
    "    empirical_theta_dist = encoder.sample((variational_dist_samples), test_x)\n",
    "    sample_x = np.transpose(np.tile(test_x, (variational_dist_samples,1,1)), (1, 0, 2))\n",
    "\n",
    "    flat_empirical_theta_dist = empirical_theta_dist.reshape(-1, empirical_theta_dist.shape[-1])\n",
    "    flat_sample_x = sample_x.reshape(-1, empirical_theta_dist.shape[-1])\n",
    "    var_probs = encoder.log_prob(flat_empirical_theta_dist, flat_sample_x).detach()\n",
    "    var_log_probs = var_probs.reshape((trial_sims, -1))\n",
    "    unnorm_probabilities = var_log_probs.cpu().exp().numpy()\n",
    "\n",
    "    var_quantiles = []\n",
    "    for k, desired_coverage in enumerate(desired_coverages):\n",
    "        var_quantiles.append(np.quantile(unnorm_probabilities, q = 1 - desired_coverage, method=\"inverted_cdf\", axis=1))\n",
    "    var_quantiles = np.transpose(np.array(var_quantiles), (1, 0))\n",
    "\n",
    "    predicted_prob = encoder.log_prob(test_theta, test_x).cpu().exp().detach().numpy()\n",
    "    tiled_predicted_probs = np.tile(predicted_prob.reshape(-1,1), (1,20))\n",
    "    return np.sum(tiled_predicted_probs > var_quantiles, axis=0) / trial_sims"
   ]
  },
  {
   "cell_type": "code",
   "execution_count": 11,
   "id": "c909acdf",
   "metadata": {},
   "outputs": [
    {
     "name": "stderr",
     "output_type": "stream",
     "text": [
      "/home/yppatel/anaconda3/envs/chig/lib/python3.8/site-packages/nflows/transforms/lu.py:80: UserWarning: torch.triangular_solve is deprecated in favor of torch.linalg.solve_triangularand will be removed in a future PyTorch release.\n",
      "torch.linalg.solve_triangular has its arguments reversed and does not return a copy of one of the inputs.\n",
      "X = torch.triangular_solve(B, A).solution\n",
      "should be replaced with\n",
      "X = torch.linalg.solve_triangular(A, B). (Triggered internally at ../aten/src/ATen/native/BatchLinearAlgebra.cpp:2191.)\n",
      "  outputs, _ = torch.triangular_solve(\n"
     ]
    }
   ],
   "source": [
    "dfs = []\n",
    "for i in range(total_trials):\n",
    "    df = pd.DataFrame(columns=[\"confidence\", \"coverages\"])\n",
    "    df[\"confidence\"] = desired_coverages\n",
    "    df[\"coverages\"] = coverage_trial(test_thetas[i], test_xs[i])\n",
    "    df[\"var_coverages\"] = var_coverage_trial(test_thetas[i], test_xs[i])\n",
    "    dfs.append(df)\n",
    "df = pd.concat(dfs)   "
   ]
  },
  {
   "cell_type": "code",
   "execution_count": 12,
   "id": "3ae13274",
   "metadata": {},
   "outputs": [
    {
     "data": {
      "text/plain": [
       "<Axes: xlabel='confidence', ylabel='confidence'>"
      ]
     },
     "execution_count": 12,
     "metadata": {},
     "output_type": "execute_result"
    },
    {
     "data": {
      "image/png": "[encoded data removed]",
      "text/plain": [
       "<Figure size 640x480 with 1 Axes>"
      ]
     },
     "metadata": {},
     "output_type": "display_data"
    }
   ],
   "source": [
    "sns.lineplot(data=df, x=\"confidence\", y=\"confidence\", color=\"black\", linestyle=\"-\")\n",
    "sns.lineplot(data=df, x=\"confidence\", y=\"coverages\", color=\"red\", linestyle=\"-\")\n",
    "sns.lineplot(data=df, x=\"confidence\", y=\"var_coverages\")"
   ]
  },
  {
   "cell_type": "code",
   "execution_count": 20,
   "id": "a16c3eaf",
   "metadata": {},
   "outputs": [
    {
     "data": {
      "text/plain": [
       "torch.Size([10000, 2])"
      ]
     },
     "execution_count": 20,
     "metadata": {},
     "output_type": "execute_result"
    }
   ],
   "source": [
    "test_xs[0].shape"
   ]
  },
  {
   "cell_type": "code",
   "execution_count": 22,
   "id": "9663bec0",
   "metadata": {},
   "outputs": [
    {
     "name": "stdout",
     "output_type": "stream",
     "text": [
      "torch.Size([100000, 2])\n",
      "(100000, 2)\n"
     ]
    }
   ],
   "source": [
    "variational_dist_samples = 10\n",
    "encoder.to(device)\n",
    "empirical_theta_dist = encoder.sample((variational_dist_samples), test_xs[0])\n",
    "sample_x = np.transpose(np.tile(test_xs[0], (variational_dist_samples,1,1)), (1, 0, 2))\n",
    "\n",
    "flat_empirical_theta_dist = empirical_theta_dist.reshape(-1, empirical_theta_dist.shape[-1])\n",
    "flat_sample_x = sample_x.reshape(-1, empirical_theta_dist.shape[-1])\n",
    "var_probs = encoder.log_prob(flat_empirical_theta_dist, flat_sample_x).detach()\n",
    "var_log_probs = var_probs.reshape((10_000, -1))\n",
    "unnorm_probabilities = var_log_probs.cpu().exp().numpy()\n",
    "\n",
    "var_quantiles = []\n",
    "for k, desired_coverage in enumerate(desired_coverages):\n",
    "    var_quantiles.append(np.quantile(unnorm_probabilities, q = 1 - desired_coverage, method=\"inverted_cdf\", axis=1))\n",
    "var_quantiles = np.transpose(np.array(var_quantiles), (1, 0))\n",
    "\n",
    "predicted_prob = encoder.log_prob(test_xs[0], test_thetas[0]).cpu().exp().detach().numpy()\n",
    "tiled_predicted_probs = np.tile(predicted_prob.reshape(-1,1), (1,20))\n",
    "variational_cov = np.sum(tiled_predicted_probs > var_quantiles, axis=0)"
   ]
  },
  {
   "cell_type": "code",
   "execution_count": 37,
   "id": "46aedf0d",
   "metadata": {},
   "outputs": [],
   "source": [
    "var_log_probs = var_probs.reshape((10_000, -1))\n",
    "unnorm_probabilities = var_log_probs.cpu().exp().numpy()\n",
    "\n",
    "var_quantiles = []\n",
    "for k, desired_coverage in enumerate(desired_coverages):\n",
    "    var_quantiles.append(np.quantile(unnorm_probabilities, q = 1 - desired_coverage, method=\"inverted_cdf\", axis=1))\n",
    "var_quantiles = np.transpose(np.array(var_quantiles), (1, 0))\n",
    "\n",
    "predicted_prob = encoder.log_prob(test_xs[0], test_thetas[0]).cpu().exp().detach().numpy()\n",
    "tiled_predicted_probs = np.tile(predicted_prob.reshape(-1,1), (1,20))\n",
    "variational_cov = np.sum(tiled_predicted_probs > var_quantiles, axis=0)"
   ]
  },
  {
   "cell_type": "code",
   "execution_count": 44,
   "id": "07fea60e",
   "metadata": {},
   "outputs": [],
   "source": [
    "predicted_prob = encoder.log_prob(test_xs[0], test_thetas[0]).cpu().exp().detach().numpy()\n",
    "tiled_predicted_probs = np.tile(predicted_prob.reshape(-1,1), (1,20))\n",
    "variational_cov = np.sum(tiled_predicted_probs > var_quantiles, axis=0)"
   ]
  },
  {
   "cell_type": "code",
   "execution_count": 56,
   "id": "9612db80",
   "metadata": {},
   "outputs": [],
   "source": [
    "tiled_predicted_probs = np.tile(predicted_prob.reshape(-1,1), (1,20))\n",
    "variational_cov = np.sum(tiled_predicted_probs > var_quantiles, axis=0)"
   ]
  },
  {
   "cell_type": "code",
   "execution_count": 63,
   "id": "3f9e60fb",
   "metadata": {},
   "outputs": [],
   "source": [
    "variational_cov = np.sum(tiled_predicted_probs > var_quantiles, axis=0)"
   ]
  },
  {
   "cell_type": "code",
   "execution_count": 275,
   "id": "06e056de",
   "metadata": {},
   "outputs": [],
   "source": [
    "encoder.to(device)\n",
    "variational_coverages = np.zeros(num_coverage_pts)\n",
    "for test_theta, test_x in zip(test_thetas, test_xs):\n",
    "    for test_theta_pt, test_x_pt in zip(test_theta, test_x):\n",
    "        variational_set_size = 10\n",
    "\n",
    "        empirical_theta_dist = encoder.sample(variational_set_size, test_x_pt.view(1,-1)).detach().numpy()[0]\n",
    "        predicted_lps = encoder.log_prob(empirical_theta_dist, np.tile(test_x_pt.view(1,-1), (variational_set_size,1))).detach()\n",
    "        unnorm_probabilities = predicted_lps.cpu().exp().numpy()\n",
    "\n",
    "        var_quantiles = np.zeros(len(desired_coverages))\n",
    "        for k, desired_coverage in enumerate(desired_coverages):\n",
    "            var_quantiles[k] = np.quantile(unnorm_probabilities, q = 1 - desired_coverage, method=\"inverted_cdf\")\n",
    "        predicted_prob = encoder.log_prob(test_theta_pt.view(1,-1), test_x_pt.view(1,-1)).detach().cpu().exp().numpy()\n",
    "        variational_coverages += predicted_prob > var_quantiles\n",
    "    break"
   ]
  },
  {
   "cell_type": "code",
   "execution_count": 279,
   "id": "cac176fd",
   "metadata": {},
   "outputs": [
    {
     "data": {
      "text/plain": [
       "array([0.0067, 0.0067, 0.0161, 0.0161, 0.032 , 0.032 , 0.0606, 0.0606,\n",
       "       0.1114, 0.1114, 0.1915, 0.1915, 0.3074, 0.3074, 0.4657, 0.4657,\n",
       "       0.6451, 0.6451, 0.838 , 0.838 ])"
      ]
     },
     "execution_count": 279,
     "metadata": {},
     "output_type": "execute_result"
    }
   ],
   "source": [
    "variational_coverages / 10_000"
   ]
  },
  {
   "cell_type": "code",
   "execution_count": 65,
   "id": "8e531a12",
   "metadata": {},
   "outputs": [
    {
     "data": {
      "text/plain": [
       "<Axes: >"
      ]
     },
     "execution_count": 65,
     "metadata": {},
     "output_type": "execute_result"
    },
    {
     "data": {
      "image/png": "[encoded data removed]",
      "text/plain": [
       "<Figure size 640x480 with 1 Axes>"
      ]
     },
     "metadata": {},
     "output_type": "display_data"
    }
   ],
   "source": [
    "sns.lineplot(x=desired_coverages, y=variational_cov / 10_000, color=\"red\")"
   ]
  },
  {
   "cell_type": "code",
   "execution_count": null,
   "id": "ed068850",
   "metadata": {},
   "outputs": [],
   "source": []
  }
 ],
 "metadata": {
  "kernelspec": {
   "display_name": "chig",
   "language": "python",
   "name": "python3"
  },
  "language_info": {
   "codemirror_mode": {
    "name": "ipython",
    "version": 3
   },
   "file_extension": ".py",
   "mimetype": "text/x-python",
   "name": "python",
   "nbconvert_exporter": "python",
   "pygments_lexer": "ipython3",
   "version": "3.8.16"
  },
  "vscode": {
   "interpreter": {
    "hash": "025fdf49e09ee838b0c05e971129fbc14df70fae1b22b06a04398c8d66c2f675"
   }
  }
 },
 "nbformat": 4,
 "nbformat_minor": 5
}
