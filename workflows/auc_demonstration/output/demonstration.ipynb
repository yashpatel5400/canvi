{
 "cells": [
  {
   "cell_type": "markdown",
   "id": "1894064d",
   "metadata": {
    "papermill": {
     "duration": 0.010582,
     "end_time": "2023-04-27T00:56:20.619663",
     "exception": false,
     "start_time": "2023-04-27T00:56:20.609081",
     "status": "completed"
    },
    "tags": []
   },
   "source": [
    "# AUC metric, or any other \"distance\" metric, might be deceitful.\n",
    "*A demonstration*"
   ]
  },
  {
   "cell_type": "code",
   "execution_count": 1,
   "id": "c9cf3851",
   "metadata": {
    "execution": {
     "iopub.execute_input": "2023-04-27T00:56:20.638075Z",
     "iopub.status.busy": "2023-04-27T00:56:20.637408Z",
     "iopub.status.idle": "2023-04-27T00:56:24.627393Z",
     "shell.execute_reply": "2023-04-27T00:56:24.626351Z"
    },
    "papermill": {
     "duration": 4.003399,
     "end_time": "2023-04-27T00:56:24.631413",
     "exception": false,
     "start_time": "2023-04-27T00:56:20.628014",
     "status": "completed"
    },
    "tags": []
   },
   "outputs": [
    {
     "name": "stderr",
     "output_type": "stream",
     "text": [
      "/home/yppatel/anaconda3/envs/crisissbi/lib/python3.9/site-packages/tqdm/auto.py:21: TqdmWarning: IProgress not found. Please update jupyter and ipywidgets. See https://ipywidgets.readthedocs.io/en/stable/user_install.html\n",
      "  from .autonotebook import tqdm as notebook_tqdm\n"
     ]
    }
   ],
   "source": [
    "import hypothesis as h\n",
    "import torch\n",
    "import matplotlib.pyplot as plt\n",
    "import matplotlib.lines as mlines\n",
    "import numpy as np\n",
    "import os\n",
    "\n",
    "from torch.distributions.normal import Normal\n",
    "from sklearn.metrics import roc_curve, auc\n",
    "from sklearn.model_selection import train_test_split\n",
    "from sklearn.neural_network import MLPClassifier"
   ]
  },
  {
   "cell_type": "code",
   "execution_count": 2,
   "id": "8b8575cd",
   "metadata": {
    "execution": {
     "iopub.execute_input": "2023-04-27T00:56:24.653704Z",
     "iopub.status.busy": "2023-04-27T00:56:24.652911Z",
     "iopub.status.idle": "2023-04-27T00:56:26.052051Z",
     "shell.execute_reply": "2023-04-27T00:56:26.050928Z"
    },
    "papermill": {
     "duration": 1.414873,
     "end_time": "2023-04-27T00:56:26.056416",
     "exception": false,
     "start_time": "2023-04-27T00:56:24.641543",
     "status": "completed"
    },
    "tags": []
   },
   "outputs": [
    {
     "name": "stdout",
     "output_type": "stream",
     "text": [
      "Wed Apr 26 08:56:25 PM EDT 2023\r\n"
     ]
    }
   ],
   "source": [
    "!date"
   ]
  },
  {
   "cell_type": "code",
   "execution_count": 3,
   "id": "5233a6b8",
   "metadata": {
    "execution": {
     "iopub.execute_input": "2023-04-27T00:56:26.079817Z",
     "iopub.status.busy": "2023-04-27T00:56:26.079178Z",
     "iopub.status.idle": "2023-04-27T00:56:26.085404Z",
     "shell.execute_reply": "2023-04-27T00:56:26.084427Z"
    },
    "papermill": {
     "duration": 0.021952,
     "end_time": "2023-04-27T00:56:26.088904",
     "exception": false,
     "start_time": "2023-04-27T00:56:26.066952",
     "status": "completed"
    },
    "tags": []
   },
   "outputs": [],
   "source": [
    "# Activate the `hypothesis` plotting style\n",
    "h.plot.activate()"
   ]
  },
  {
   "cell_type": "markdown",
   "id": "d639cad8",
   "metadata": {
    "papermill": {
     "duration": 0.01155,
     "end_time": "2023-04-27T00:56:26.110995",
     "exception": false,
     "start_time": "2023-04-27T00:56:26.099445",
     "status": "completed"
    },
    "tags": []
   },
   "source": [
    "## Setting"
   ]
  },
  {
   "cell_type": "markdown",
   "id": "b2679524",
   "metadata": {
    "papermill": {
     "duration": 0.00714,
     "end_time": "2023-04-27T00:56:26.126532",
     "exception": false,
     "start_time": "2023-04-27T00:56:26.119392",
     "status": "completed"
    },
    "tags": []
   },
   "source": [
    "Notebook arguments. The following cell also contains the `parameters` tag, such that it can be parameterized with [Papermill](https://papermill.readthedocs.io/en/latest/)."
   ]
  },
  {
   "cell_type": "code",
   "execution_count": 4,
   "id": "1f8307a4",
   "metadata": {
    "execution": {
     "iopub.execute_input": "2023-04-27T00:56:26.141526Z",
     "iopub.status.busy": "2023-04-27T00:56:26.140936Z",
     "iopub.status.idle": "2023-04-27T00:56:26.145724Z",
     "shell.execute_reply": "2023-04-27T00:56:26.145061Z"
    },
    "papermill": {
     "duration": 0.014483,
     "end_time": "2023-04-27T00:56:26.147881",
     "exception": false,
     "start_time": "2023-04-27T00:56:26.133398",
     "status": "completed"
    },
    "tags": [
     "parameters"
    ]
   },
   "outputs": [],
   "source": [
    "root = os.path.abspath('')\n",
    "outputdir = root + \"/output\""
   ]
  },
  {
   "cell_type": "code",
   "execution_count": 5,
   "id": "fe6ff2dd",
   "metadata": {
    "execution": {
     "iopub.execute_input": "2023-04-27T00:56:26.160375Z",
     "iopub.status.busy": "2023-04-27T00:56:26.159870Z",
     "iopub.status.idle": "2023-04-27T00:56:26.164243Z",
     "shell.execute_reply": "2023-04-27T00:56:26.163448Z"
    },
    "papermill": {
     "duration": 0.012982,
     "end_time": "2023-04-27T00:56:26.166034",
     "exception": false,
     "start_time": "2023-04-27T00:56:26.153052",
     "status": "completed"
    },
    "tags": [
     "injected-parameters"
    ]
   },
   "outputs": [],
   "source": [
    "# Parameters\n",
    "root = \"/home/yppatel/canvi/workflows/auc_demonstration\"\n",
    "outputdir = \"/home/yppatel/canvi/workflows/auc_demonstration/output\"\n"
   ]
  },
  {
   "cell_type": "markdown",
   "id": "92ec720f",
   "metadata": {
    "papermill": {
     "duration": 0.005577,
     "end_time": "2023-04-27T00:56:26.177202",
     "exception": false,
     "start_time": "2023-04-27T00:56:26.171625",
     "status": "completed"
    },
    "tags": []
   },
   "source": [
    "Create and clean data directories. Initialize some variables based on the Notebook's parameterization."
   ]
  },
  {
   "cell_type": "code",
   "execution_count": 6,
   "id": "3f9c1563",
   "metadata": {
    "execution": {
     "iopub.execute_input": "2023-04-27T00:56:26.192566Z",
     "iopub.status.busy": "2023-04-27T00:56:26.191474Z",
     "iopub.status.idle": "2023-04-27T00:56:28.682015Z",
     "shell.execute_reply": "2023-04-27T00:56:28.679444Z"
    },
    "papermill": {
     "duration": 2.503802,
     "end_time": "2023-04-27T00:56:28.686230",
     "exception": false,
     "start_time": "2023-04-27T00:56:26.182428",
     "status": "completed"
    },
    "tags": []
   },
   "outputs": [
    {
     "name": "stdout",
     "output_type": "stream",
     "text": [
      "rm: cannot remove '/home/yppatel/canvi/workflows/auc_demonstration/output/plots': No such file or directory\r\n"
     ]
    }
   ],
   "source": [
    "plotdir = outputdir + \"/plots\"\n",
    "!rm -r $plotdir\n",
    "!mkdir -p $plotdir"
   ]
  },
  {
   "cell_type": "markdown",
   "id": "9629a67b",
   "metadata": {
    "papermill": {
     "duration": 0.009874,
     "end_time": "2023-04-27T00:56:28.706810",
     "exception": false,
     "start_time": "2023-04-27T00:56:28.696936",
     "status": "completed"
    },
    "tags": []
   },
   "source": [
    "## Utilities"
   ]
  },
  {
   "cell_type": "code",
   "execution_count": 7,
   "id": "fff6ac52",
   "metadata": {
    "execution": {
     "iopub.execute_input": "2023-04-27T00:56:28.732028Z",
     "iopub.status.busy": "2023-04-27T00:56:28.730767Z",
     "iopub.status.idle": "2023-04-27T00:56:28.750382Z",
     "shell.execute_reply": "2023-04-27T00:56:28.749111Z"
    },
    "papermill": {
     "duration": 0.036965,
     "end_time": "2023-04-27T00:56:28.753853",
     "exception": false,
     "start_time": "2023-04-27T00:56:28.716888",
     "status": "completed"
    },
    "tags": []
   },
   "outputs": [],
   "source": [
    "def estimate_auc(samples_a, samples_b):\n",
    "    assert len(samples_a) == len(samples_b)\n",
    "    ones = np.ones((len(samples_a), 1))\n",
    "    zeros = np.zeros((len(samples_b), 1))\n",
    "    X = np.hstack([samples_a, samples_b]).reshape(-1, 1)\n",
    "    y = np.vstack([ones, zeros]).reshape(-1)\n",
    "    X_train, X_test, y_train, y_test = train_test_split(X, y, test_size=0.25)\n",
    "    clf = MLPClassifier(hidden_layer_sizes=(128, 128))\n",
    "    clf.fit(X_train, y_train)\n",
    "    probs = clf.predict_proba(X_test)[:, 1]\n",
    "    fpr, tpr, _ = roc_curve(y_test, probs)\n",
    "\n",
    "    return auc(fpr, tpr)"
   ]
  },
  {
   "cell_type": "markdown",
   "id": "547a8e9e",
   "metadata": {
    "papermill": {
     "duration": 0.009251,
     "end_time": "2023-04-27T00:56:28.772380",
     "exception": false,
     "start_time": "2023-04-27T00:56:28.763129",
     "status": "completed"
    },
    "tags": []
   },
   "source": [
    "## Scenario"
   ]
  },
  {
   "cell_type": "code",
   "execution_count": 8,
   "id": "4f993915",
   "metadata": {
    "execution": {
     "iopub.execute_input": "2023-04-27T00:56:28.792191Z",
     "iopub.status.busy": "2023-04-27T00:56:28.791388Z",
     "iopub.status.idle": "2023-04-27T00:56:28.797865Z",
     "shell.execute_reply": "2023-04-27T00:56:28.796536Z"
    },
    "papermill": {
     "duration": 0.019137,
     "end_time": "2023-04-27T00:56:28.800598",
     "exception": false,
     "start_time": "2023-04-27T00:56:28.781461",
     "status": "completed"
    },
    "tags": []
   },
   "outputs": [],
   "source": [
    "num_samples = 100000"
   ]
  },
  {
   "cell_type": "code",
   "execution_count": 9,
   "id": "f69ba0aa",
   "metadata": {
    "execution": {
     "iopub.execute_input": "2023-04-27T00:56:28.818307Z",
     "iopub.status.busy": "2023-04-27T00:56:28.817676Z",
     "iopub.status.idle": "2023-04-27T00:56:28.852531Z",
     "shell.execute_reply": "2023-04-27T00:56:28.851320Z"
    },
    "papermill": {
     "duration": 0.047362,
     "end_time": "2023-04-27T00:56:28.855721",
     "exception": false,
     "start_time": "2023-04-27T00:56:28.808359",
     "status": "completed"
    },
    "tags": []
   },
   "outputs": [],
   "source": [
    "p = Normal(0, 1)\n",
    "q_overconfident = Normal(0, 0.5)\n",
    "q_conservative = Normal(0, 2.0)"
   ]
  },
  {
   "cell_type": "code",
   "execution_count": 10,
   "id": "308d1eb1",
   "metadata": {
    "execution": {
     "iopub.execute_input": "2023-04-27T00:56:28.875027Z",
     "iopub.status.busy": "2023-04-27T00:56:28.874223Z",
     "iopub.status.idle": "2023-04-27T00:56:28.906146Z",
     "shell.execute_reply": "2023-04-27T00:56:28.904538Z"
    },
    "papermill": {
     "duration": 0.044525,
     "end_time": "2023-04-27T00:56:28.908437",
     "exception": false,
     "start_time": "2023-04-27T00:56:28.863912",
     "status": "completed"
    },
    "tags": []
   },
   "outputs": [],
   "source": [
    "samples_p = p.sample((num_samples,)).numpy()\n",
    "samples_q_o = q_overconfident.sample((num_samples,)).numpy()\n",
    "samples_q_c = q_conservative.sample((num_samples,)).numpy()"
   ]
  },
  {
   "cell_type": "code",
   "execution_count": 11,
   "id": "42648a7d",
   "metadata": {
    "execution": {
     "iopub.execute_input": "2023-04-27T00:56:28.921955Z",
     "iopub.status.busy": "2023-04-27T00:56:28.920943Z",
     "iopub.status.idle": "2023-04-27T00:58:13.119859Z",
     "shell.execute_reply": "2023-04-27T00:58:13.117993Z"
    },
    "papermill": {
     "duration": 104.208823,
     "end_time": "2023-04-27T00:58:13.122610",
     "exception": false,
     "start_time": "2023-04-27T00:56:28.913787",
     "status": "completed"
    },
    "tags": []
   },
   "outputs": [],
   "source": [
    "# Compute AUC score for overconfident \"approximation\"\n",
    "auc_o = estimate_auc(samples_p, samples_q_o)\n",
    "# Compute AUC score for conservative \"approximation\"\n",
    "auc_c = estimate_auc(samples_p, samples_q_c)"
   ]
  },
  {
   "cell_type": "code",
   "execution_count": 12,
   "id": "7a5d4e5d",
   "metadata": {
    "execution": {
     "iopub.execute_input": "2023-04-27T00:58:13.138579Z",
     "iopub.status.busy": "2023-04-27T00:58:13.138149Z",
     "iopub.status.idle": "2023-04-27T00:58:13.148900Z",
     "shell.execute_reply": "2023-04-27T00:58:13.148110Z"
    },
    "papermill": {
     "duration": 0.021631,
     "end_time": "2023-04-27T00:58:13.150925",
     "exception": false,
     "start_time": "2023-04-27T00:58:13.129294",
     "status": "completed"
    },
    "tags": []
   },
   "outputs": [],
   "source": [
    "h.plot.activate()"
   ]
  },
  {
   "cell_type": "code",
   "execution_count": 13,
   "id": "0abfc6eb",
   "metadata": {
    "execution": {
     "iopub.execute_input": "2023-04-27T00:58:13.167462Z",
     "iopub.status.busy": "2023-04-27T00:58:13.166397Z",
     "iopub.status.idle": "2023-04-27T00:58:14.854348Z",
     "shell.execute_reply": "2023-04-27T00:58:14.853210Z"
    },
    "papermill": {
     "duration": 1.700447,
     "end_time": "2023-04-27T00:58:14.857976",
     "exception": false,
     "start_time": "2023-04-27T00:58:13.157529",
     "status": "completed"
    },
    "tags": []
   },
   "outputs": [
    {
     "data": {
      "image/png": "[encoded data removed]",
      "text/plain": [
       "<Figure size 700x700 with 1 Axes>"
      ]
     },
     "metadata": {},
     "output_type": "display_data"
    }
   ],
   "source": [
    "f = plt.figure(figsize=(7, 7))\n",
    "plt.hist(samples_p, histtype=\"step\", density=True, lw=2, bins=50)\n",
    "plt.hist(samples_q_o, histtype=\"step\", density=True, lw=2, bins=50)\n",
    "plt.hist(samples_q_c, histtype=\"step\", density=True, lw=2, bins=50)\n",
    "plt.ylabel(\"Posterior density\")\n",
    "plt.xlabel(r\"$\\vartheta$\")\n",
    "ylim = plt.gca().get_ylim()\n",
    "\n",
    "a_o = \"{:.1f}\".format(auc_o)\n",
    "a_c = \"{:.1f}\".format(auc_c)\n",
    "plt.annotate(r\"$\\textsc{auroc}\\approx \" + a_o + r\"$\", xy=(-0.6, 0.6), xytext=(-7.7, 0.7), va=\"center\", arrowprops=dict(facecolor='black', edgecolor='black', shrink=0.1),)\n",
    "plt.annotate(r\"$\\textsc{auroc}\\approx \" + a_c + r\"$\", xy=(-2.8, 0.1), xytext=(-9.5, 0.2), va=\"center\", arrowprops=dict(facecolor='black', edgecolor='black', shrink=0.1),)\n",
    "\n",
    "\n",
    "plt.scatter([-1000], [-1000], label=\"Overconfident\", color=\"C1\", marker='s', s=100)\n",
    "plt.scatter([-1000], [-1000], label=\"Groundtruth\", color=\"C0\", marker='s', s=100)\n",
    "plt.scatter([-1000], [-1000], label=\"Conservative\", color=\"C2\", marker='s', s=100)\n",
    "plt.legend(handletextpad=0.05)\n",
    "plt.gca().set_xlim([-10, 10])\n",
    "plt.gca().set_ylim(ylim)\n",
    "\n",
    "plt.savefig(plotdir + \"/auc-deceitful.pdf\")\n",
    "plt.show()"
   ]
  }
 ],
 "metadata": {
  "kernelspec": {
   "display_name": "Python 3",
   "language": "python",
   "name": "python3"
  },
  "language_info": {
   "codemirror_mode": {
    "name": "ipython",
    "version": 3
   },
   "file_extension": ".py",
   "mimetype": "text/x-python",
   "name": "python",
   "nbconvert_exporter": "python",
   "pygments_lexer": "ipython3",
   "version": "3.9.0"
  },
  "papermill": {
   "default_parameters": {},
   "duration": 118.213105,
   "end_time": "2023-04-27T00:58:17.491193",
   "environment_variables": {},
   "exception": null,
   "input_path": "/home/yppatel/canvi/workflows/auc_demonstration/demonstration.ipynb",
   "output_path": "/home/yppatel/canvi/workflows/auc_demonstration/output/demonstration.ipynb",
   "parameters": {
    "outputdir": "/home/yppatel/canvi/workflows/auc_demonstration/output",
    "root": "/home/yppatel/canvi/workflows/auc_demonstration"
   },
   "start_time": "2023-04-27T00:56:19.278088",
   "version": "2.4.0"
  }
 },
 "nbformat": 4,
 "nbformat_minor": 5
}