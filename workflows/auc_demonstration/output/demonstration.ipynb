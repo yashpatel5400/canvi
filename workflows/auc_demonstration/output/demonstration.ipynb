{
 "cells": [
  {
   "cell_type": "markdown",
   "id": "59139919",
   "metadata": {
    "papermill": {
     "duration": 0.00688,
     "end_time": "2023-03-06T20:22:58.891589",
     "exception": false,
     "start_time": "2023-03-06T20:22:58.884709",
     "status": "completed"
    },
    "tags": []
   },
   "source": [
    "# AUC metric, or any other \"distance\" metric, might be deceitful.\n",
    "*A demonstration*"
   ]
  },
  {
   "cell_type": "code",
   "execution_count": 1,
   "id": "e01cd950",
   "metadata": {
    "execution": {
     "iopub.execute_input": "2023-03-06T20:22:58.902893Z",
     "iopub.status.busy": "2023-03-06T20:22:58.902410Z",
     "iopub.status.idle": "2023-03-06T20:23:01.815938Z",
     "shell.execute_reply": "2023-03-06T20:23:01.815150Z"
    },
    "papermill": {
     "duration": 2.923368,
     "end_time": "2023-03-06T20:23:01.820029",
     "exception": false,
     "start_time": "2023-03-06T20:22:58.896661",
     "status": "completed"
    },
    "tags": []
   },
   "outputs": [
    {
     "name": "stderr",
     "output_type": "stream",
     "text": [
      "/home/yppatel/anaconda3/envs/crisissbi/lib/python3.9/site-packages/tqdm/auto.py:21: TqdmWarning: IProgress not found. Please update jupyter and ipywidgets. See https://ipywidgets.readthedocs.io/en/stable/user_install.html\n",
      "  from .autonotebook import tqdm as notebook_tqdm\n"
     ]
    }
   ],
   "source": [
    "import hypothesis as h\n",
    "import torch\n",
    "import matplotlib.pyplot as plt\n",
    "import matplotlib.lines as mlines\n",
    "import numpy as np\n",
    "import os\n",
    "\n",
    "from torch.distributions.normal import Normal\n",
    "from sklearn.metrics import roc_curve, auc\n",
    "from sklearn.model_selection import train_test_split\n",
    "from sklearn.neural_network import MLPClassifier"
   ]
  },
  {
   "cell_type": "code",
   "execution_count": 2,
   "id": "93f3a228",
   "metadata": {
    "execution": {
     "iopub.execute_input": "2023-03-06T20:23:01.837578Z",
     "iopub.status.busy": "2023-03-06T20:23:01.837039Z",
     "iopub.status.idle": "2023-03-06T20:23:02.627246Z",
     "shell.execute_reply": "2023-03-06T20:23:02.626404Z"
    },
    "papermill": {
     "duration": 0.802924,
     "end_time": "2023-03-06T20:23:02.630917",
     "exception": false,
     "start_time": "2023-03-06T20:23:01.827993",
     "status": "completed"
    },
    "tags": []
   },
   "outputs": [
    {
     "name": "stdout",
     "output_type": "stream",
     "text": [
      "Mon Mar  6 03:23:02 PM EST 2023\r\n"
     ]
    }
   ],
   "source": [
    "!date"
   ]
  },
  {
   "cell_type": "code",
   "execution_count": 3,
   "id": "2660edfd",
   "metadata": {
    "execution": {
     "iopub.execute_input": "2023-03-06T20:23:02.648461Z",
     "iopub.status.busy": "2023-03-06T20:23:02.648234Z",
     "iopub.status.idle": "2023-03-06T20:23:02.652615Z",
     "shell.execute_reply": "2023-03-06T20:23:02.652036Z"
    },
    "papermill": {
     "duration": 0.016892,
     "end_time": "2023-03-06T20:23:02.656393",
     "exception": false,
     "start_time": "2023-03-06T20:23:02.639501",
     "status": "completed"
    },
    "tags": []
   },
   "outputs": [],
   "source": [
    "# Activate the `hypothesis` plotting style\n",
    "h.plot.activate()"
   ]
  },
  {
   "cell_type": "markdown",
   "id": "3333b90f",
   "metadata": {
    "papermill": {
     "duration": 0.007108,
     "end_time": "2023-03-06T20:23:02.670721",
     "exception": false,
     "start_time": "2023-03-06T20:23:02.663613",
     "status": "completed"
    },
    "tags": []
   },
   "source": [
    "## Setting"
   ]
  },
  {
   "cell_type": "markdown",
   "id": "dcc13065",
   "metadata": {
    "papermill": {
     "duration": 0.006982,
     "end_time": "2023-03-06T20:23:02.684907",
     "exception": false,
     "start_time": "2023-03-06T20:23:02.677925",
     "status": "completed"
    },
    "tags": []
   },
   "source": [
    "Notebook arguments. The following cell also contains the `parameters` tag, such that it can be parameterized with [Papermill](https://papermill.readthedocs.io/en/latest/)."
   ]
  },
  {
   "cell_type": "code",
   "execution_count": 4,
   "id": "900a463c",
   "metadata": {
    "execution": {
     "iopub.execute_input": "2023-03-06T20:23:02.698880Z",
     "iopub.status.busy": "2023-03-06T20:23:02.698163Z",
     "iopub.status.idle": "2023-03-06T20:23:02.705064Z",
     "shell.execute_reply": "2023-03-06T20:23:02.703813Z"
    },
    "papermill": {
     "duration": 0.01683,
     "end_time": "2023-03-06T20:23:02.707854",
     "exception": false,
     "start_time": "2023-03-06T20:23:02.691024",
     "status": "completed"
    },
    "tags": [
     "parameters"
    ]
   },
   "outputs": [],
   "source": [
    "root = os.path.abspath('')\n",
    "outputdir = root + \"/output\""
   ]
  },
  {
   "cell_type": "code",
   "execution_count": 5,
   "id": "4b870dea",
   "metadata": {
    "execution": {
     "iopub.execute_input": "2023-03-06T20:23:02.720324Z",
     "iopub.status.busy": "2023-03-06T20:23:02.719445Z",
     "iopub.status.idle": "2023-03-06T20:23:02.725869Z",
     "shell.execute_reply": "2023-03-06T20:23:02.724524Z"
    },
    "papermill": {
     "duration": 0.016034,
     "end_time": "2023-03-06T20:23:02.728781",
     "exception": false,
     "start_time": "2023-03-06T20:23:02.712747",
     "status": "completed"
    },
    "tags": [
     "injected-parameters"
    ]
   },
   "outputs": [],
   "source": [
    "# Parameters\n",
    "root = \"/home/yppatel/canvi/workflows/auc_demonstration\"\n",
    "outputdir = \"/home/yppatel/canvi/workflows/auc_demonstration/output\"\n"
   ]
  },
  {
   "cell_type": "markdown",
   "id": "845ebb2c",
   "metadata": {
    "papermill": {
     "duration": 0.004881,
     "end_time": "2023-03-06T20:23:02.738596",
     "exception": false,
     "start_time": "2023-03-06T20:23:02.733715",
     "status": "completed"
    },
    "tags": []
   },
   "source": [
    "Create and clean data directories. Initialize some variables based on the Notebook's parameterization."
   ]
  },
  {
   "cell_type": "code",
   "execution_count": 6,
   "id": "86ee4a4c",
   "metadata": {
    "execution": {
     "iopub.execute_input": "2023-03-06T20:23:02.753721Z",
     "iopub.status.busy": "2023-03-06T20:23:02.752537Z",
     "iopub.status.idle": "2023-03-06T20:23:04.334112Z",
     "shell.execute_reply": "2023-03-06T20:23:04.331619Z"
    },
    "papermill": {
     "duration": 1.594588,
     "end_time": "2023-03-06T20:23:04.338426",
     "exception": false,
     "start_time": "2023-03-06T20:23:02.743838",
     "status": "completed"
    },
    "tags": []
   },
   "outputs": [
    {
     "name": "stdout",
     "output_type": "stream",
     "text": [
      "rm: cannot remove '/home/yppatel/canvi/workflows/auc_demonstration/output/plots': No such file or directory\r\n"
     ]
    }
   ],
   "source": [
    "plotdir = outputdir + \"/plots\"\n",
    "!rm -r $plotdir\n",
    "!mkdir -p $plotdir"
   ]
  },
  {
   "cell_type": "markdown",
   "id": "5200ace0",
   "metadata": {
    "papermill": {
     "duration": 0.00771,
     "end_time": "2023-03-06T20:23:04.354037",
     "exception": false,
     "start_time": "2023-03-06T20:23:04.346327",
     "status": "completed"
    },
    "tags": []
   },
   "source": [
    "## Utilities"
   ]
  },
  {
   "cell_type": "code",
   "execution_count": 7,
   "id": "d5d4e558",
   "metadata": {
    "execution": {
     "iopub.execute_input": "2023-03-06T20:23:04.372892Z",
     "iopub.status.busy": "2023-03-06T20:23:04.372226Z",
     "iopub.status.idle": "2023-03-06T20:23:04.386699Z",
     "shell.execute_reply": "2023-03-06T20:23:04.385340Z"
    },
    "papermill": {
     "duration": 0.028558,
     "end_time": "2023-03-06T20:23:04.390247",
     "exception": false,
     "start_time": "2023-03-06T20:23:04.361689",
     "status": "completed"
    },
    "tags": []
   },
   "outputs": [],
   "source": [
    "def estimate_auc(samples_a, samples_b):\n",
    "    assert len(samples_a) == len(samples_b)\n",
    "    ones = np.ones((len(samples_a), 1))\n",
    "    zeros = np.zeros((len(samples_b), 1))\n",
    "    X = np.hstack([samples_a, samples_b]).reshape(-1, 1)\n",
    "    y = np.vstack([ones, zeros]).reshape(-1)\n",
    "    X_train, X_test, y_train, y_test = train_test_split(X, y, test_size=0.25)\n",
    "    clf = MLPClassifier(hidden_layer_sizes=(128, 128))\n",
    "    clf.fit(X_train, y_train)\n",
    "    probs = clf.predict_proba(X_test)[:, 1]\n",
    "    fpr, tpr, _ = roc_curve(y_test, probs)\n",
    "\n",
    "    return auc(fpr, tpr)"
   ]
  },
  {
   "cell_type": "markdown",
   "id": "4e015196",
   "metadata": {
    "papermill": {
     "duration": 0.007603,
     "end_time": "2023-03-06T20:23:04.406310",
     "exception": false,
     "start_time": "2023-03-06T20:23:04.398707",
     "status": "completed"
    },
    "tags": []
   },
   "source": [
    "## Scenario"
   ]
  },
  {
   "cell_type": "code",
   "execution_count": 8,
   "id": "c71d43e4",
   "metadata": {
    "execution": {
     "iopub.execute_input": "2023-03-06T20:23:04.422709Z",
     "iopub.status.busy": "2023-03-06T20:23:04.422261Z",
     "iopub.status.idle": "2023-03-06T20:23:04.427258Z",
     "shell.execute_reply": "2023-03-06T20:23:04.426190Z"
    },
    "papermill": {
     "duration": 0.01609,
     "end_time": "2023-03-06T20:23:04.430110",
     "exception": false,
     "start_time": "2023-03-06T20:23:04.414020",
     "status": "completed"
    },
    "tags": []
   },
   "outputs": [],
   "source": [
    "num_samples = 100000"
   ]
  },
  {
   "cell_type": "code",
   "execution_count": 9,
   "id": "ce61defa",
   "metadata": {
    "execution": {
     "iopub.execute_input": "2023-03-06T20:23:04.445192Z",
     "iopub.status.busy": "2023-03-06T20:23:04.444562Z",
     "iopub.status.idle": "2023-03-06T20:23:04.474340Z",
     "shell.execute_reply": "2023-03-06T20:23:04.472993Z"
    },
    "papermill": {
     "duration": 0.041005,
     "end_time": "2023-03-06T20:23:04.477582",
     "exception": false,
     "start_time": "2023-03-06T20:23:04.436577",
     "status": "completed"
    },
    "tags": []
   },
   "outputs": [],
   "source": [
    "p = Normal(0, 1)\n",
    "q_overconfident = Normal(0, 0.5)\n",
    "q_conservative = Normal(0, 2.0)"
   ]
  },
  {
   "cell_type": "code",
   "execution_count": 10,
   "id": "b311ac2a",
   "metadata": {
    "execution": {
     "iopub.execute_input": "2023-03-06T20:23:04.492826Z",
     "iopub.status.busy": "2023-03-06T20:23:04.492236Z",
     "iopub.status.idle": "2023-03-06T20:23:04.522619Z",
     "shell.execute_reply": "2023-03-06T20:23:04.520758Z"
    },
    "papermill": {
     "duration": 0.041039,
     "end_time": "2023-03-06T20:23:04.525240",
     "exception": false,
     "start_time": "2023-03-06T20:23:04.484201",
     "status": "completed"
    },
    "tags": []
   },
   "outputs": [],
   "source": [
    "samples_p = p.sample((num_samples,)).numpy()\n",
    "samples_q_o = q_overconfident.sample((num_samples,)).numpy()\n",
    "samples_q_c = q_conservative.sample((num_samples,)).numpy()"
   ]
  },
  {
   "cell_type": "code",
   "execution_count": 11,
   "id": "eee8e32f",
   "metadata": {
    "execution": {
     "iopub.execute_input": "2023-03-06T20:23:04.539307Z",
     "iopub.status.busy": "2023-03-06T20:23:04.538457Z",
     "iopub.status.idle": "2023-03-06T20:24:24.005900Z",
     "shell.execute_reply": "2023-03-06T20:24:24.004436Z"
    },
    "papermill": {
     "duration": 79.477739,
     "end_time": "2023-03-06T20:24:24.008689",
     "exception": false,
     "start_time": "2023-03-06T20:23:04.530950",
     "status": "completed"
    },
    "tags": []
   },
   "outputs": [],
   "source": [
    "# Compute AUC score for overconfident \"approximation\"\n",
    "auc_o = estimate_auc(samples_p, samples_q_o)\n",
    "# Compute AUC score for conservative \"approximation\"\n",
    "auc_c = estimate_auc(samples_p, samples_q_c)"
   ]
  },
  {
   "cell_type": "code",
   "execution_count": 12,
   "id": "05853065",
   "metadata": {
    "execution": {
     "iopub.execute_input": "2023-03-06T20:24:24.021012Z",
     "iopub.status.busy": "2023-03-06T20:24:24.020549Z",
     "iopub.status.idle": "2023-03-06T20:24:24.026781Z",
     "shell.execute_reply": "2023-03-06T20:24:24.026045Z"
    },
    "papermill": {
     "duration": 0.014342,
     "end_time": "2023-03-06T20:24:24.028585",
     "exception": false,
     "start_time": "2023-03-06T20:24:24.014243",
     "status": "completed"
    },
    "tags": []
   },
   "outputs": [],
   "source": [
    "h.plot.activate()"
   ]
  },
  {
   "cell_type": "code",
   "execution_count": 13,
   "id": "21016e21",
   "metadata": {
    "execution": {
     "iopub.execute_input": "2023-03-06T20:24:24.039225Z",
     "iopub.status.busy": "2023-03-06T20:24:24.038916Z",
     "iopub.status.idle": "2023-03-06T20:24:31.962724Z",
     "shell.execute_reply": "2023-03-06T20:24:31.961963Z"
    },
    "papermill": {
     "duration": 7.935352,
     "end_time": "2023-03-06T20:24:31.968708",
     "exception": false,
     "start_time": "2023-03-06T20:24:24.033356",
     "status": "completed"
    },
    "tags": []
   },
   "outputs": [
    {
     "data": {
      "image/png": "[encoded data removed]",
      "text/plain": [
       "<Figure size 700x700 with 1 Axes>"
      ]
     },
     "metadata": {},
     "output_type": "display_data"
    }
   ],
   "source": [
    "f = plt.figure(figsize=(7, 7))\n",
    "plt.hist(samples_p, histtype=\"step\", density=True, lw=2, bins=50)\n",
    "plt.hist(samples_q_o, histtype=\"step\", density=True, lw=2, bins=50)\n",
    "plt.hist(samples_q_c, histtype=\"step\", density=True, lw=2, bins=50)\n",
    "plt.ylabel(\"Posterior density\")\n",
    "plt.xlabel(r\"$\\vartheta$\")\n",
    "ylim = plt.gca().get_ylim()\n",
    "\n",
    "a_o = \"{:.1f}\".format(auc_o)\n",
    "a_c = \"{:.1f}\".format(auc_c)\n",
    "plt.annotate(r\"$\\textsc{auroc}\\approx \" + a_o + r\"$\", xy=(-0.6, 0.6), xytext=(-7.7, 0.7), va=\"center\", arrowprops=dict(facecolor='black', edgecolor='black', shrink=0.1),)\n",
    "plt.annotate(r\"$\\textsc{auroc}\\approx \" + a_c + r\"$\", xy=(-2.8, 0.1), xytext=(-9.5, 0.2), va=\"center\", arrowprops=dict(facecolor='black', edgecolor='black', shrink=0.1),)\n",
    "\n",
    "\n",
    "plt.scatter([-1000], [-1000], label=\"Overconfident\", color=\"C1\", marker='s', s=100)\n",
    "plt.scatter([-1000], [-1000], label=\"Groundtruth\", color=\"C0\", marker='s', s=100)\n",
    "plt.scatter([-1000], [-1000], label=\"Conservative\", color=\"C2\", marker='s', s=100)\n",
    "plt.legend(handletextpad=0.05)\n",
    "plt.gca().set_xlim([-10, 10])\n",
    "plt.gca().set_ylim(ylim)\n",
    "\n",
    "plt.savefig(plotdir + \"/auc-deceitful.pdf\")\n",
    "plt.show()"
   ]
  }
 ],
 "metadata": {
  "kernelspec": {
   "display_name": "Python 3",
   "language": "python",
   "name": "python3"
  },
  "language_info": {
   "codemirror_mode": {
    "name": "ipython",
    "version": 3
   },
   "file_extension": ".py",
   "mimetype": "text/x-python",
   "name": "python",
   "nbconvert_exporter": "python",
   "pygments_lexer": "ipython3",
   "version": "3.9.0"
  },
  "papermill": {
   "default_parameters": {},
   "duration": 96.834222,
   "end_time": "2023-03-06T20:24:34.603152",
   "environment_variables": {},
   "exception": null,
   "input_path": "/home/yppatel/canvi/workflows/auc_demonstration/demonstration.ipynb",
   "output_path": "/home/yppatel/canvi/workflows/auc_demonstration/output/demonstration.ipynb",
   "parameters": {
    "outputdir": "/home/yppatel/canvi/workflows/auc_demonstration/output",
    "root": "/home/yppatel/canvi/workflows/auc_demonstration"
   },
   "start_time": "2023-03-06T20:22:57.768930",
   "version": "2.4.0"
  }
 },
 "nbformat": 4,
 "nbformat_minor": 5
}