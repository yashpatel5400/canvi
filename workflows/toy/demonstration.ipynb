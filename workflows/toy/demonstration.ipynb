{
 "cells": [
  {
   "cell_type": "markdown",
   "metadata": {},
   "source": [
    "# Treating conditional normalizing flows as ratio estimators\n",
    "*A demonstration*"
   ]
  },
  {
   "cell_type": "code",
   "execution_count": null,
   "metadata": {},
   "outputs": [],
   "source": [
    "import hypothesis as h\n",
    "import torch\n",
    "import matplotlib.pyplot as plt\n",
    "import numpy as np\n",
    "import os\n",
    "\n",
    "from ratio_estimation import RatioEstimator\n",
    "from ratio_estimation import FlowRatioEstimator"
   ]
  },
  {
   "cell_type": "code",
   "execution_count": null,
   "metadata": {},
   "outputs": [],
   "source": [
    "!date"
   ]
  },
  {
   "cell_type": "code",
   "execution_count": null,
   "metadata": {},
   "outputs": [],
   "source": [
    "# Activate the `hypothesis` plotting style\n",
    "h.plot.activate()\n",
    "# h.plot.deactivate()  # To deactivate plotting style (is faster for development)"
   ]
  },
  {
   "cell_type": "markdown",
   "metadata": {},
   "source": [
    "## Setting"
   ]
  },
  {
   "cell_type": "markdown",
   "metadata": {},
   "source": [
    "Notebook arguments. The following cell also contains the `parameters` tag, such that it can be parameterized with [Papermill](https://papermill.readthedocs.io/en/latest/)."
   ]
  },
  {
   "cell_type": "code",
   "execution_count": null,
   "metadata": {
    "tags": [
     "parameters"
    ]
   },
   "outputs": [],
   "source": [
    "root = os.path.abspath('')  # Default value\n",
    "outputdir = root + \"/output\"  # Default value"
   ]
  },
  {
   "cell_type": "markdown",
   "metadata": {},
   "source": [
    "Create and clean data directories. Initialize some variables based on the Notebook's parameterization."
   ]
  },
  {
   "cell_type": "code",
   "execution_count": null,
   "metadata": {},
   "outputs": [],
   "source": [
    "# Plotting directories\n",
    "plotdir = outputdir + \"/plots\"\n",
    "!mkdir -p $plotdir\n",
    "\n",
    "# Model directories\n",
    "!mkdir -p $outputdir/classifier\n",
    "!mkdir -p $outputdir/flow"
   ]
  },
  {
   "cell_type": "markdown",
   "metadata": {},
   "source": [
    "## Utilities"
   ]
  },
  {
   "cell_type": "markdown",
   "metadata": {},
   "source": [
    "## Training\n",
    "\n",
    "Note the `--show` argument can mess up the output, so you can leave it if you like."
   ]
  },
  {
   "cell_type": "markdown",
   "metadata": {},
   "source": [
    "### Ratio estimation through classification"
   ]
  },
  {
   "cell_type": "code",
   "execution_count": null,
   "metadata": {},
   "outputs": [],
   "source": [
    "!python -m hypothesis.bin.ratio_estimation.train \\\n",
    "    --dont-calibrate \\\n",
    "    --batch-size 1024 \\\n",
    "    --epochs 25 \\\n",
    "    --out $outputdir/classifier \\\n",
    "    --data-train util.DatasetJointTest \\\n",
    "    --data-test util.DatasetJointTrain \\\n",
    "    --estimator ratio_estimation.RatioEstimator"
   ]
  },
  {
   "cell_type": "markdown",
   "metadata": {},
   "source": [
    "Check the output directory."
   ]
  },
  {
   "cell_type": "code",
   "execution_count": null,
   "metadata": {},
   "outputs": [],
   "source": [
    "!ls -al $outputdir/classifier"
   ]
  },
  {
   "cell_type": "markdown",
   "metadata": {},
   "source": [
    "### Ratio estimation with conditional normalizing flows"
   ]
  },
  {
   "cell_type": "code",
   "execution_count": null,
   "metadata": {},
   "outputs": [],
   "source": [
    "!python -m hypothesis.bin.ratio_estimation.train \\\n",
    "    --dont-calibrate \\\n",
    "    --batch-size 1024 \\\n",
    "    --epochs 25 \\\n",
    "    --out $outputdir/classifier \\\n",
    "    --data-train util.DatasetJointTest \\\n",
    "    --data-test util.DatasetJointTrain \\\n",
    "    --estimator ratio_estimation.FlowRatioEstimator"
   ]
  },
  {
   "cell_type": "markdown",
   "metadata": {},
   "source": [
    "Check the output directory."
   ]
  },
  {
   "cell_type": "code",
   "execution_count": null,
   "metadata": {},
   "outputs": [],
   "source": [
    "!ls -al $outputdir/classifier"
   ]
  },
  {
   "cell_type": "markdown",
   "metadata": {},
   "source": [
    "## Scenario"
   ]
  },
  {
   "cell_type": "code",
   "execution_count": null,
   "metadata": {},
   "outputs": [],
   "source": [
    "# TODO"
   ]
  }
 ],
 "metadata": {
  "kernelspec": {
   "display_name": "Python [conda env:casbi]",
   "language": "python",
   "name": "conda-env-casbi-py"
  },
  "language_info": {
   "codemirror_mode": {
    "name": "ipython",
    "version": 3
   },
   "file_extension": ".py",
   "mimetype": "text/x-python",
   "name": "python",
   "nbconvert_exporter": "python",
   "pygments_lexer": "ipython3",
   "version": "3.9.0"
  }
 },
 "nbformat": 4,
 "nbformat_minor": 4
}
